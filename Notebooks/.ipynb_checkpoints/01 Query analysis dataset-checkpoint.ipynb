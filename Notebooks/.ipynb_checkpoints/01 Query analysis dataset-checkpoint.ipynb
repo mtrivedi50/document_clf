{
 "cells": [
  {
   "cell_type": "markdown",
   "metadata": {},
   "source": [
    "# Table of contents\n",
    "\n",
    "1. [Introduction](#intro)\n",
    "2. [Import dependencies](#import_dep)\n",
    "3. [Dataset construction](#data_constr)"
   ]
  },
  {
   "cell_type": "markdown",
   "metadata": {},
   "source": [
    "# 1. Introduction\n",
    "<a class=\"anchor\" id=\"intro\"></a>"
   ]
  },
  {
   "cell_type": "markdown",
   "metadata": {},
   "source": [
    "Modern drug discovery requires researchers to: a) identify a therapeutic target, or a molecule structure whose abnormal activity is associated with a disease, and b) design drugs to act on these therapeutic targets. Both stages of this process are costly and time-intensive. Therefore, it's crucial to devise strategies to improve the efficiency of this search. One such strategy has been to develop a more comprehensive understanding of therapeutic targets and their interaction properties. For example, the number of drug-target interaction publications has increased over the past several years, as have the number of efforts to consolidate the information into useful databases.\n",
    "\n",
    "Nevertheless, much of the data remains unstructured, waiting to be extracted and curated by human experts. The growing number of scientific publications makes it infeasible to manually sift through all the available literature.  Rather, we first need to find a way to distinguish the relevant documents from the mass of irrelevant ones. To that end, this Jupyter notebook introduces a document classifier that's able to successfully identify articles that contain drug-target interaction information and those that do not. "
   ]
  },
  {
   "cell_type": "markdown",
   "metadata": {},
   "source": [
    "# 2. Import dependencies\n",
    "<a class=\"anchor\" id=\"import_dep\"></a>"
   ]
  },
  {
   "cell_type": "code",
   "execution_count": 1,
   "metadata": {},
   "outputs": [],
   "source": [
    "# Base packages\n",
    "import os\n",
    "import settings\n",
    "import numpy as np\n",
    "import pandas as pd\n",
    "from google.cloud import bigquery\n",
    "\n",
    "# Ignore warnings\n",
    "import warnings\n",
    "warnings.filterwarnings('ignore')"
   ]
  },
  {
   "cell_type": "markdown",
   "metadata": {},
   "source": [
    "# 3. Dataset construction\n",
    "<a class=\"anchor\" id=\"data_constr\"></a>"
   ]
  },
  {
   "cell_type": "markdown",
   "metadata": {},
   "source": [
    "We will generate our classification model using the ChEMBL database. ChEMBL is an Open Data database containing binding, functional, and ADMET information for a large number of drug-like bioactive compounds. More detail can be found in the following [article](https://www.ncbi.nlm.nih.gov/pmc/articles/PMC3245175/). The ChEMBL database can be efficiently queried through the Google Cloud Platform; we define the credentials needed to access this platform here."
   ]
  },
  {
   "cell_type": "code",
   "execution_count": 2,
   "metadata": {},
   "outputs": [],
   "source": [
    "# Define relative paths\n",
    "NOTEBOOKS = os.getcwd()\n",
    "WKDIR = NOTEBOOKS.replace('/Notebooks', '')\n",
    "DATA = WKDIR + '/Data'\n",
    "\n",
    "os.environ['GOOGLE_APPLICATION_CREDENTIALS'] = WKDIR + \"/\" + settings.GOOGLE_CLOUD_CREDENTIALS\n",
    "EBI_CHEMBL = \"patents-public-data.ebi_chembl\"\n",
    "client = bigquery.Client()"
   ]
  },
  {
   "cell_type": "markdown",
   "metadata": {},
   "source": [
    "The ChEMBL corpus is structured as a relational database. That is, the corpus is composed of several different tables\n",
    "which relate to one another via specific variables, or keys. For instance, the \"assays\" table and \"docs\" table are\n",
    "related to one another via the \"doc_id\" variable. In order to create our analysis dataset, we will merge the relevant tables together via the appropriate \"keys\" and querying our aggregated table to isolate the observations we are interested in. This section provides a brief overview of the tables and fields we will be using:\n",
    "\n",
    "- We start with the \"docs\" table, which contains all scientific publications (journal articles or patents) from which assays have been extracted. We will use the \"title\" and \"abstract\" field from this table to generate our model.\n",
    "\n",
    "\n",
    "- Next, given that we want our model to distinguish between articles that contain drug-target information and those that do not, we need to incorporate target-level information into the analysis dataset. This information can be found in the \"target_dictionary\" and \"target_type\" tables. The \"target_dictionary\" table contains the target IDs that we can map to the specific assays (\"tid\"), and the \"target_type\" table categorizes the targets into distinct, high-level classes (e.g., \"PROTEIN,\", \"MOLECULAR,\" \"NON-MOLECULAR,\" etc.). We are only interested in querying documents associated with \"PROTEIN\" targets.\n",
    "\n",
    "\n",
    "- The \"assays\" table stores the list of all the assays extracted from the documents. This table contains a variety of useful fields that map to other tables. Specifically, the \"doc_id\" field maps to the \"doc_id\" field in the \"docs\" table, and the \"tid\" field maps to the \"tid\" field in the \"target_dictionary\" table. Note that the majority of assays associated with a \"PROTEIN\" target are binding assays (we confirm this with the query directly below). To simplify our analysis dataset, we will only query documents associated with binding assays."
   ]
  },
  {
   "cell_type": "code",
   "execution_count": 3,
   "metadata": {},
   "outputs": [
    {
     "data": {
      "text/plain": [
       "B    221245\n",
       "F     35374\n",
       "A     13530\n",
       "U       126\n",
       "T        73\n",
       "Name: assay_type, dtype: int64"
      ]
     },
     "execution_count": 3,
     "metadata": {},
     "output_type": "execute_result"
    }
   ],
   "source": [
    "assay_test = f\"\"\"\n",
    "SELECT DISTINCT assay.assay_id, assay.assay_type \n",
    "FROM `{EBI_CHEMBL}.assays_24` assay\n",
    "INNER JOIN `{EBI_CHEMBL}.target_dictionary_24` target_dict\n",
    "    ON target_dict.tid = assay.tid\n",
    "INNER JOIN `{EBI_CHEMBL}.target_type_24` target_type\n",
    "    ON target_type.target_type = target_dict.target_type\n",
    "WHERE target_type.parent_type = \"PROTEIN\"\n",
    "\"\"\"\n",
    "assay_test = client.query(assay_test).to_dataframe()\n",
    "assay_test['assay_type'].value_counts()"
   ]
  },
  {
   "cell_type": "markdown",
   "metadata": {},
   "source": [
    "A more thorough description of the schema can be found [here](http://uk.brahma.top/Assets/chembl/schema.html). Using the above information, we define the following queries:"
   ]
  },
  {
   "cell_type": "code",
   "execution_count": 4,
   "metadata": {},
   "outputs": [],
   "source": [
    "# First, we define a query that captures all targets (\"tid\") from the target_dictionary table whose high-level class \n",
    "# is \"PROTEIN.\"\n",
    "protein_target_query = f\"\"\"\n",
    "SELECT target_dict.tid, target_parent.parent_type \n",
    "FROM `{EBI_CHEMBL}.target_dictionary_24` target_dict \n",
    "INNER JOIN `{EBI_CHEMBL}.target_type_24` target_parent \n",
    "    ON target_parent.target_type = target_dict.target_type \n",
    "WHERE target_parent.parent_type = \"PROTEIN\" \n",
    "\"\"\"\n",
    "\n",
    "# Query the relevant documents with drug-target information.\n",
    "data_pos_query = f\"\"\"\n",
    "SELECT DISTINCT docs.doc_id, docs.title, docs.abstract\n",
    "FROM `{EBI_CHEMBL}.docs_24` docs \n",
    "INNER JOIN `{EBI_CHEMBL}.assays_24` assays \n",
    "    ON assays.doc_id = docs.doc_id \n",
    "INNER JOIN ({protein_target_query}) targets \n",
    "    ON targets.tid = assays.tid \n",
    "WHERE \n",
    "    docs.title                IS NOT NULL AND \n",
    "    docs.abstract             IS NOT NULL AND \n",
    "    assays.confidence_score >= \"8\"        AND \n",
    "    assays.assay_type        = \"B\" \n",
    "\"\"\"\n",
    "data_pos = client.query(data_pos_query).to_dataframe()\n",
    "data_pos['target'] = 1\n",
    "\n",
    "# Generate the dataset with documents associated with non drug-target interactions.\n",
    "data_neg_query = f\"\"\"\n",
    "SELECT DISTINCT docs.doc_id, docs.title, docs.abstract\n",
    "FROM `{EBI_CHEMBL}.docs_24` docs\n",
    "WHERE\n",
    "    docs.doc_id NOT IN\n",
    "    (\n",
    "        SELECT doc_id\n",
    "        FROM ({data_pos_query})\n",
    "    )                         AND\n",
    "    docs.title    IS NOT NULL AND\n",
    "    docs.abstract IS NOT NULL\n",
    "\"\"\"\n",
    "data_neg = client.query(data_neg_query).to_dataframe()\n",
    "data_neg['target'] = 0"
   ]
  },
  {
   "cell_type": "markdown",
   "metadata": {},
   "source": [
    "Let's examine the number of documents we have in each category."
   ]
  },
  {
   "cell_type": "code",
   "execution_count": 5,
   "metadata": {},
   "outputs": [
    {
     "name": "stdout",
     "output_type": "stream",
     "text": [
      "Number of 'positive' articles: 28288\n",
      "Number of 'negative' articles: 32650\n"
     ]
    },
    {
     "data": {
      "text/html": [
       "<div>\n",
       "<style scoped>\n",
       "    .dataframe tbody tr th:only-of-type {\n",
       "        vertical-align: middle;\n",
       "    }\n",
       "\n",
       "    .dataframe tbody tr th {\n",
       "        vertical-align: top;\n",
       "    }\n",
       "\n",
       "    .dataframe thead th {\n",
       "        text-align: right;\n",
       "    }\n",
       "</style>\n",
       "<table border=\"1\" class=\"dataframe\">\n",
       "  <thead>\n",
       "    <tr style=\"text-align: right;\">\n",
       "      <th></th>\n",
       "      <th>doc_id</th>\n",
       "      <th>title</th>\n",
       "      <th>abstract</th>\n",
       "      <th>target</th>\n",
       "    </tr>\n",
       "  </thead>\n",
       "  <tbody>\n",
       "    <tr>\n",
       "      <th>0</th>\n",
       "      <td>11595</td>\n",
       "      <td>Para-substituted Phe3 deltorphin analogues: en...</td>\n",
       "      <td>The delta-selective opioid peptide deltorphin ...</td>\n",
       "      <td>1</td>\n",
       "    </tr>\n",
       "    <tr>\n",
       "      <th>1</th>\n",
       "      <td>11597</td>\n",
       "      <td>Computer-aided mapping of the beta-adrenocepto...</td>\n",
       "      <td>Anomalously low affinities for the beta-1-adre...</td>\n",
       "      <td>1</td>\n",
       "    </tr>\n",
       "    <tr>\n",
       "      <th>2</th>\n",
       "      <td>11598</td>\n",
       "      <td>Radiosynthesis, cerebral distribution, and bin...</td>\n",
       "      <td>An analog of 1,3-di-o-tolylguanidine (DTG), [1...</td>\n",
       "      <td>1</td>\n",
       "    </tr>\n",
       "    <tr>\n",
       "      <th>3</th>\n",
       "      <td>11601</td>\n",
       "      <td>Synthesis, configuration, and activity of isom...</td>\n",
       "      <td>The novel semirigid derivatives (+)-cis-1-[2-p...</td>\n",
       "      <td>1</td>\n",
       "    </tr>\n",
       "    <tr>\n",
       "      <th>4</th>\n",
       "      <td>11607</td>\n",
       "      <td>Dihydropyrimidine angiotensin II receptor anta...</td>\n",
       "      <td>The discovery of the nonpeptide angiotensin II...</td>\n",
       "      <td>1</td>\n",
       "    </tr>\n",
       "  </tbody>\n",
       "</table>\n",
       "</div>"
      ],
      "text/plain": [
       "  doc_id                                              title  \\\n",
       "0  11595  Para-substituted Phe3 deltorphin analogues: en...   \n",
       "1  11597  Computer-aided mapping of the beta-adrenocepto...   \n",
       "2  11598  Radiosynthesis, cerebral distribution, and bin...   \n",
       "3  11601  Synthesis, configuration, and activity of isom...   \n",
       "4  11607  Dihydropyrimidine angiotensin II receptor anta...   \n",
       "\n",
       "                                            abstract  target  \n",
       "0  The delta-selective opioid peptide deltorphin ...       1  \n",
       "1  Anomalously low affinities for the beta-1-adre...       1  \n",
       "2  An analog of 1,3-di-o-tolylguanidine (DTG), [1...       1  \n",
       "3  The novel semirigid derivatives (+)-cis-1-[2-p...       1  \n",
       "4  The discovery of the nonpeptide angiotensin II...       1  "
      ]
     },
     "execution_count": 5,
     "metadata": {},
     "output_type": "execute_result"
    }
   ],
   "source": [
    "print(\"Number of 'positive' articles: \" + str(data_pos.shape[0]))\n",
    "print(\"Number of 'negative' articles: \" + str(data_neg.shape[0]))\n",
    "\n",
    "# Save out\n",
    "data_pos.to_csv(DATA + '/ChEMBL document data (positive).csv', index=False)\n",
    "data_neg.to_csv(DATA + '/ChEMBL document data (negative).csv', index=False)\n",
    "data_pos.head()"
   ]
  }
 ],
 "metadata": {
  "kernelspec": {
   "display_name": "Python 3",
   "language": "python",
   "name": "python3"
  },
  "language_info": {
   "codemirror_mode": {
    "name": "ipython",
    "version": 3
   },
   "file_extension": ".py",
   "mimetype": "text/x-python",
   "name": "python",
   "nbconvert_exporter": "python",
   "pygments_lexer": "ipython3",
   "version": "3.7.3"
  }
 },
 "nbformat": 4,
 "nbformat_minor": 4
}
