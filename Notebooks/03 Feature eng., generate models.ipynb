{
 "cells": [
  {
   "cell_type": "markdown",
   "metadata": {},
   "source": [
    "# Table of contents\n",
    "\n",
    "1. [Introduction](#intro)\n",
    "2. [Import dependencies](#import_dep)\n",
    "3. [Feature engineering](#feature_eng)\n",
    "4. [Evaluating model performance](#eval_metrics)\n",
    "5. [Generating the models](#gen_models)"
   ]
  },
  {
   "cell_type": "markdown",
   "metadata": {},
   "source": [
    "# 1. Introduction\n",
    "<a class=\"anchor\" id=\"intro\"></a>"
   ]
  },
  {
   "cell_type": "markdown",
   "metadata": {},
   "source": [
    "These sets of notebooks introduce document classifier that's able to successfully identify articles that contain drug-target interaction information and those that do not. In the previous notebook, we explored our document dataset. In this notebook, we engineer our features, define our evaluation metrics, and begin building our models."
   ]
  },
  {
   "cell_type": "markdown",
   "metadata": {},
   "source": [
    "# 2. Import dependencies\n",
    "<a class=\"anchor\" id=\"import_dep\"></a>"
   ]
  },
  {
   "cell_type": "code",
   "execution_count": 1,
   "metadata": {},
   "outputs": [],
   "source": [
    "# Base packages\n",
    "import os\n",
    "import string\n",
    "import numpy as np\n",
    "import pandas as pd\n",
    "import seaborn as sns\n",
    "from scipy import interp\n",
    "import matplotlib.pyplot as plt\n",
    "from google.cloud import bigquery\n",
    "\n",
    "# Natural Language Toolkit (NLTK) packages\n",
    "from nltk.corpus import stopwords\n",
    "from nltk.stem import PorterStemmer, WordNetLemmatizer\n",
    "\n",
    "# Scikit-learn packages\n",
    "from sklearn.base import clone\n",
    "from sklearn.pipeline import Pipeline\n",
    "from sklearn.metrics import roc_curve, auc\n",
    "from sklearn.naive_bayes import MultinomialNB\n",
    "from sklearn.model_selection import GridSearchCV\n",
    "from sklearn.linear_model import LogisticRegression\n",
    "from sklearn.ensemble import RandomForestClassifier\n",
    "from sklearn.model_selection import StratifiedKFold\n",
    "from sklearn.model_selection import train_test_split\n",
    "from sklearn.base import BaseEstimator, TransformerMixin\n",
    "from sklearn.feature_extraction.text import CountVectorizer\n",
    "from sklearn.feature_extraction.text import TfidfVectorizer\n",
    "\n",
    "# Ignore warnings\n",
    "import warnings\n",
    "warnings.filterwarnings('ignore')\n",
    "\n",
    "# Define relative paths\n",
    "NOTEBOOKS = os.getcwd()\n",
    "ROOT = NOTEBOOKS.replace('Document_clf/Notebooks', '')\n",
    "WKDIR = NOTEBOOKS.replace('/Notebooks', '')\n",
    "INPUT = WKDIR + '/Input'\n",
    "DATA = WKDIR + '/Data'"
   ]
  },
  {
   "cell_type": "markdown",
   "metadata": {},
   "source": [
    "# 3. Feature engineering\n",
    "<a class=\"anchor\" id=\"feature_eng\"></a>"
   ]
  },
  {
   "cell_type": "markdown",
   "metadata": {},
   "source": [
    "Four of the most common unigrams that appear in positively labeled articles are \"inhibitors,\" \"inhibition,\" \"inhibitory,\" \"inhibitor.\" These words, although distinct, have similar enough meanings that they can essentially be treated as a single feature. This introduces the notion of term lemmatization, which refers to the process of removing inflectional endings from a word and returning it to its \"dictionary\" form.\n",
    "\n",
    "Term lemmatization is one of several text pre-processing operations that we can use to reduce the number of duplicative or superfluous features in our dataset. For now, let's stick with the following operations:\n",
    "\n",
    "- **Normalize case and remove punctuation**\n",
    "    - The vectorizing operation is case-sensitive. Therefore, we will convert all character to lowercase. In addition, we remove punctuation characters from the string, because these characters are unlikely to add significant predictive power.\n",
    "    \n",
    "- **Remove short terms**\n",
    "    - We define \"short\" terms to be terms with fewer than four characters. Removing short terms reduces the total number of features in our final dataset and also removes words with little predictive power (one-letter characters, articles, pronouns, etc.)\n",
    "- **Lemmatize terms**\n",
    "    - As described above, lemmatization refers to the process of removing inflectional ends from a word and returning it to its \"dictionary\" form\n",
    "    - For example, the lemmatized form of \"am,\" \"are,\" and \"is\" $\\Rightarrow$ \"be\"\n",
    "    - By removing inflectional endings, lemmatization reduces the number of unique forms of a given base word, thereby reducing the total number of features in the final dataset.\n",
    "    \n",
    "Let's define some helper functions to carry out these pre-processing operations."
   ]
  },
  {
   "cell_type": "code",
   "execution_count": 2,
   "metadata": {},
   "outputs": [],
   "source": [
    "def case_punct_normalizer(string, punctuation=string.punctuation):\n",
    "    \"\"\"Remove all punctuation and convert all characters to lowercase.\n",
    "\n",
    "    Keyword arguments:\n",
    "    string      -- the string to be processed\n",
    "    punctuation -- the concatenated string of punctuation characters to remove\n",
    "    \"\"\"\n",
    "    processed = \"\"\n",
    "    for char in string:\n",
    "        if char not in punctuation:\n",
    "            processed = processed + char.lower()\n",
    "    return processed\n",
    "\n",
    "\n",
    "def short_term_remover(string, min_term_length, exceptions=[]):\n",
    "    \"\"\"Remove all words shorter than a threshold length\n",
    "\n",
    "    Keyword arguments:\n",
    "    string          -- the string to be processed\n",
    "    min_term_length -- the threshold describing the minimum term length to keep\n",
    "    exceptions      -- list of words less than the min_term_length to keep\n",
    "    \"\"\"\n",
    "    processed = \"\"\n",
    "    for word in string.split():\n",
    "        if pd.Series(word in exceptions).any() or len(word) >= min_term_length:\n",
    "            if len(processed)==0:\n",
    "                processed = word\n",
    "            else:\n",
    "                processed = \" \".join([processed, word])\n",
    "    return processed\n",
    "\n",
    "\n",
    "def term_lemmatizer(string, lemmatizer):\n",
    "    \"\"\"Lemmatize words\n",
    "\n",
    "    Keyword arguments:\n",
    "    string     -- the string to be processed\n",
    "    lemmatizer -- an instantiated lemmatizer object (with a .lemmatize() function)\n",
    "    \"\"\"\n",
    "    processed = \"\"\n",
    "    for word in string.split():\n",
    "        if len(processed)==0:\n",
    "            processed = lemmatizer.lemmatize(word)\n",
    "        else:\n",
    "            processed = \" \".join([processed, lemmatizer.lemmatize(word)])\n",
    "    return processed"
   ]
  },
  {
   "cell_type": "markdown",
   "metadata": {},
   "source": [
    "We can then package these pre-processing operations in custom transformers."
   ]
  },
  {
   "cell_type": "code",
   "execution_count": 3,
   "metadata": {},
   "outputs": [],
   "source": [
    "class VariableSelector(BaseEstimator, TransformerMixin):\n",
    "    def __init__(self, var_list):\n",
    "        self.var_list = var_list\n",
    "\n",
    "    def fit(self, X, y=None):\n",
    "        return self\n",
    "\n",
    "    def transform(self, X, y=None):\n",
    "        combined = X[self.var_list].apply(lambda x: ' '.join(x), axis=1)\n",
    "        return combined\n",
    "\n",
    "\n",
    "class StringPreprocessor(BaseEstimator, TransformerMixin):\n",
    "    def __init__(self, min_term_length, exclusions, punctuation=string.punctuation):\n",
    "        self.min_term_length = min_term_length\n",
    "        self.exclusions = exclusions\n",
    "\n",
    "    def fit(self, X, y=None):\n",
    "        return self\n",
    "\n",
    "    def transform(self, X, y=None):\n",
    "        # Normalize the case and remove extraneous punctuation.\n",
    "        processed = X.apply(case_punct_normalizer)\n",
    "\n",
    "        # Remove short terms\n",
    "        processed = processed.apply(lambda x: short_term_remover(x, self.min_term_length, self.exclusions))\n",
    "\n",
    "        # Lemmatize the remaining words.\n",
    "        lm = WordNetLemmatizer()\n",
    "        processed = processed.apply(lambda x: term_lemmatizer(x, lm))\n",
    "        return processed\n"
   ]
  },
  {
   "cell_type": "markdown",
   "metadata": {},
   "source": [
    "We can further package these transformers into different processing pipelines.\n",
    "\n",
    "Above, we noted that we can vectorize bigrams according to their counts or the term-frequency inverse-document frequency (or, tf-idf). Although the former is pretty self-explanatory, the latter requires a bit of clarification. Rather than using raw counts, a tf-idf vectorizer attempts to summarize how important a word is in a given corpus. The tf-idf statistic is calculated by multiplying two statistics together: *term frequency* and *inverse document frequency*. The former is simply the raw count of the term in the corpus. The latter is calculated by dividing the total number of documents by the number of documents containing the term, and then taking the logarithm of that quotient. Intuitively, as the term appears in more documents, the quotient approaches 1, bringing the idf (and therefore, the tf-idf), closer to 0. In this way, the tf-idf gives higher weights to more uncommon (i.e., potentially more important) terms. It's always a good idea to normalize one's features, so let's stick with the TF-IDF vectorizer for now."
   ]
  },
  {
   "cell_type": "code",
   "execution_count": 4,
   "metadata": {},
   "outputs": [],
   "source": [
    "# Vectorize unigrams\n",
    "unigram_tfidf = Pipeline([\n",
    "    ('selector', VariableSelector(var_list=['abstract'])),\n",
    "    ('pre-processor', StringPreprocessor(min_term_length=4, exclusions=[])),\n",
    "    ('vectorizer', CountVectorizer(token_pattern='(?u)\\\\b\\\\w\\\\w+\\\\b', stop_words='english', ngram_range=(1, 1)))\n",
    "])\n",
    "\n",
    "# Vectorize bigrams\n",
    "bigram_tfidf = Pipeline([\n",
    "    ('selector', VariableSelector(var_list=['abstract'])),\n",
    "    ('pre-processor', StringPreprocessor(min_term_length=4, exclusions=[])),\n",
    "    ('vectorizer', CountVectorizer(token_pattern='(?u)\\\\b\\\\w\\\\w+\\\\b', stop_words='english', ngram_range=(2, 2)))\n",
    "])"
   ]
  },
  {
   "cell_type": "markdown",
   "metadata": {},
   "source": [
    "# 4. Evaluating model performance\n",
    "<a class=\"anchor\" id=\"eval_metrics\"></a>"
   ]
  },
  {
   "cell_type": "markdown",
   "metadata": {},
   "source": [
    "There are three common metrics used to evaluate the performance for binary classifiers: sensitivity, specificity, and the Matthews Correlation Coefficient (MCC). The \"sensitivity\" of the model quantifies the proportion of actual positives that are correctly identified as such. Conversely, the \"specificity\" of the model quantifies the proportion of actual negatives that are correctly identified as such. The MCC metric takes into account both true and false positives and negatives to summarize the association between the target variable and the predictions. Let's define functions to calculate these metrics."
   ]
  },
  {
   "cell_type": "code",
   "execution_count": 5,
   "metadata": {},
   "outputs": [],
   "source": [
    "def calculate_sensitivity(y_true, y_preds):\n",
    "    \"\"\"Calculate the sensitivity of the model.\n",
    "\n",
    "    Keyword arguments:\n",
    "    y_true  -- list of the true labels for the test data\n",
    "    y_preds -- list of the predicted labels for the test data\n",
    "    \"\"\"\n",
    "    try:\n",
    "        len(y_true) == len(y_preds)\n",
    "    except ValueError:\n",
    "        print(\"Labels and predictions not the same size\")\n",
    "\n",
    "    # Calculate the number of true positives, false negatives, and the resulting sensitivity\n",
    "    tp = np.sum([y_true[i] == 1 and y_preds[i] == 1 for i in range(0, len(y_true))])\n",
    "    fn = np.sum([y_true[i] == 1 and y_preds[i] == 0 for i in range(0, len(y_true))])\n",
    "    sensitivity = tp / (tp + fn)\n",
    "    return sensitivity\n",
    "\n",
    "\n",
    "def calculate_specificity(y_true, y_preds):\n",
    "    \"\"\"Calculate the specificity of the model\n",
    "\n",
    "    Keyword arguments:\n",
    "    y_true  -- list of the true labels for the test data\n",
    "    y_preds -- list of the predicted labels for the test data\n",
    "    \"\"\"\n",
    "    try:\n",
    "        len(y_true) == len(y_preds)\n",
    "    except ValueError:\n",
    "        print(\"Labels and predictions not the same size\")\n",
    "\n",
    "    # Calculate the number of true positives, false negatives, and the resulting sensitivity\n",
    "    tn = np.sum([y_true[i] == 0 and y_preds[i] == 0 for i in range(0, len(y_true))])\n",
    "    fp = np.sum([y_true[i] == 0 and y_preds[i] == 1 for i in range(0, len(y_true))])\n",
    "    specificity = tn / (tn + fp)\n",
    "    return specificity\n",
    "\n",
    "\n",
    "def calculate_MCC(y_true, y_preds):\n",
    "    \"\"\"Calculate the Matthews Correlation Coefficient of the model\n",
    "\n",
    "    Keyword arguments:\n",
    "    y_true  -- list of the true labels for the test data\n",
    "    y_preds -- list of the predicted labels for the test data\n",
    "    \"\"\"\n",
    "    try:\n",
    "        len(y_true) == len(y_preds)\n",
    "    except ValueError:\n",
    "        print(\"Labels and predictions not the same size\")\n",
    "    tp = np.sum([y_true[i] == 1 and y_preds[i] == 1 for i in range(0, len(y_true))])\n",
    "    fn = np.sum([y_true[i] == 1 and y_preds[i] == 0 for i in range(0, len(y_true))])\n",
    "    tn = np.sum([y_true[i] == 0 and y_preds[i] == 0 for i in range(0, len(y_true))])\n",
    "    fp = np.sum([y_true[i] == 0 and y_preds[i] == 1 for i in range(0, len(y_true))])\n",
    "    mcc = (tp * tn - fp * fn) / np.sqrt((tp + fp) * (tp + fn) * (tn + fp) * (tn + fn))\n",
    "    return mcc\n",
    "\n",
    "def calculate_eval_scores(y_true, y_preds):\n",
    "    \"\"\"Generate a dataframe with the evaluation scores\n",
    "    \n",
    "    Keyword arguments:\n",
    "    y_true  -- list of the true labels for the test data\n",
    "    y_preds -- list of the predicted labels for the test data\n",
    "    \"\"\"\n",
    "    # Generate a map to be converted into a dataframe\n",
    "    performance_measures = {'accuracy': [],\n",
    "                            'sensitivity': [],\n",
    "                            'specificity': [],\n",
    "                            'mcc': []}\n",
    "    \n",
    "    # Calculate the statistics\n",
    "    performance_measures['accuracy'].append(np.mean(y_true==y_preds))\n",
    "    performance_measures['sensitivity'].append(calculate_sensitivity(y_true.to_list(), list(y_preds)))\n",
    "    performance_measures['specificity'].append(calculate_specificity(y_true.to_list(), list(y_preds)))\n",
    "    performance_measures['mcc'].append(calculate_MCC(y_true.to_list(), list(y_preds)))\n",
    "    \n",
    "    # Transpose\n",
    "    performance_measures = pd.DataFrame(performance_measures)\n",
    "    performance_measures = performance_measures.transpose()\n",
    "    return performance_measures"
   ]
  },
  {
   "cell_type": "markdown",
   "metadata": {},
   "source": [
    "In addition to using the metrics we defined above, we'll also generate the ROC curve for our model. The ROC curve plots the true positive rate (i.e., the signal) against the false positive rate (i.e., the noise) at various thresholds or decision points, and is often used to assess the quality of a binary classifier model. Let's define a function to plot this ROC curve."
   ]
  },
  {
   "cell_type": "code",
   "execution_count": 6,
   "metadata": {},
   "outputs": [],
   "source": [
    "def plot_roc(trained_model, X_test, y_test):\n",
    "    \"\"\"Plot the ROC curve and the mean ROC curve.\n",
    "\n",
    "    Keyword arguments:\n",
    "    trained_model -- the trained classifier model\n",
    "    X_test        -- the test data\n",
    "    y_test        -- the test data's labels\n",
    "    \"\"\"\n",
    "    \n",
    "    # There are two common functions used to generate the scores necessary to produce an ROC curve: 'decision_function,'\n",
    "    # or 'predict_proba.' The 'decision_function' method directly produced a score for each classifier. The\n",
    "    # 'predict_proba' method calculates the probability that a given observation will fall in either class. The ROC\n",
    "    # curve requires scores, not probabilities. Therefore, we will use the former method if the classifier supports it;\n",
    "    # if not, then we will use the positive class's probability as a proxy for the scores.\n",
    "    if hasattr(trained_model, \"decision_function\"):\n",
    "        scores = trained_model.decision_function(X_test)\n",
    "    else:\n",
    "        scores = trained_model.predict_proba(X_test)[:, 1]\n",
    "    \n",
    "    # Calculate the false positive rate and true positive rate under various thresholds, and the AUC\n",
    "    fpr, tpr, thresholds = roc_curve(y_test, scores)\n",
    "    model_auc = auc(fpr, tpr)\n",
    "    \n",
    "    # Plot\n",
    "    plt.plot(fpr, tpr, lw=2, label=\"AUC = %0.2f\" % model_auc)\n",
    "  \n",
    "    # Plot the curve associated with a classifier that randomly predicts the labels\n",
    "    plt.plot([0, 1], [0, 1], linestyle='--', lw=2, color='r',\n",
    "             label='Chance', alpha=.8)\n",
    "\n",
    "    # Specify axis limits and titles, and display plot\n",
    "    plt.xlim([-0.05, 1.05])\n",
    "    plt.ylim([-0.05, 1.05])\n",
    "    plt.xlabel('False Positive Rate')\n",
    "    plt.ylabel('True Positive Rate')\n",
    "    plt.title('Receiver operating characteristic example')\n",
    "    plt.legend(loc=\"lower right\")\n",
    "    plt.show()"
   ]
  },
  {
   "cell_type": "markdown",
   "metadata": {},
   "source": [
    "# 5. Generating the models\n",
    "<a class=\"anchor\" id=\"gen_models\"></a>"
   ]
  },
  {
   "cell_type": "markdown",
   "metadata": {},
   "source": [
    "Let's create our training and testing dataset."
   ]
  },
  {
   "cell_type": "code",
   "execution_count": 7,
   "metadata": {},
   "outputs": [],
   "source": [
    "# First, let's load our analysis dataset\n",
    "data = pd.read_csv(DATA + '/ChEMBL document data (all, 6k).csv',)\n",
    "\n",
    "features = ['abstract', 'title']\n",
    "target = 'target'\n",
    "X_train, X_test, y_train, y_test = train_test_split(data[features], data[target], test_size=0.33, random_state=42)"
   ]
  },
  {
   "cell_type": "markdown",
   "metadata": {},
   "source": [
    "We will create three different models: 1) a Naive Bayes classifier, 2) a Logistic Regression classifier, and 3) a Random Forest classifier. Let's first vectorize the training and testing data."
   ]
  },
  {
   "cell_type": "code",
   "execution_count": 8,
   "metadata": {},
   "outputs": [],
   "source": [
    "# Vectorize the training and testing data into unigrams\n",
    "unigram_train = unigram_tfidf.fit_transform(X_train)\n",
    "unigram_test = unigram_tfidf.transform(X_test)\n",
    "\n",
    "# Vectorize the training and testing data into unigrams\n",
    "bigram_train = bigram_tfidf.fit_transform(X_train)\n",
    "bigram_test = bigram_tfidf.transform(X_test)"
   ]
  },
  {
   "cell_type": "markdown",
   "metadata": {},
   "source": [
    "When the number of features is greater than the number of data points, the problem of finding the best model is said to be *underdetermined*. We can address this issue by introducing regularization constraints on the training process. Specifically, we can introduce these constraints when training our LogisticRegression and RandomForest classifiers.\n",
    "\n",
    "The regularization parameters cannot be \"learned\" from the data; rather, they need to be manually tuned to the problem at hand. We can tune these parameters using k-fold cross validation. This procedure involves defining different validation sets and averaging the model performance across these sets as follows:\n",
    "\n",
    "- Randomly split the training data into k folds, or subsets.\n",
    "- For each unique fold:\n",
    "    - Set that fold aside as the \"validation\" fold\n",
    "    - Train the model using the remaining k-1 folds\n",
    "    - Test the data on the \"validation\" fold\n",
    "    - Calculate the model's evaluation metrics\n",
    "- Summarize the skill of the model using the evaluation scores of the different folds"
   ]
  },
  {
   "cell_type": "code",
   "execution_count": 9,
   "metadata": {},
   "outputs": [
    {
     "name": "stdout",
     "output_type": "stream",
     "text": [
      "Optimal hyperparameter using unigram features: 0.1\n",
      "Optimal hyperparameter using bigram features: 1.0\n"
     ]
    }
   ],
   "source": [
    "# Logistic Regression grid search for unigram features\n",
    "lr_unigram_param_grid = {'C': [1e-3, 1e-2, 1e-1, 1e0, 1e1, 1e2]}\n",
    "lr_unigram_search = GridSearchCV(LogisticRegression(), cv=5, param_grid=lr_unigram_param_grid)\n",
    "lr_unigram_search.fit(unigram_train, y_train)\n",
    "\n",
    "# Logistic Regression grid search for bigram features\n",
    "lr_bigram_param_grid = {'C': [1e-3, 1e-2, 1e-1, 1e0, 1e1, 1e2]}\n",
    "lr_bigram_search = GridSearchCV(LogisticRegression(), cv=5, param_grid=lr_bigram_param_grid)\n",
    "lr_bigram_search.fit(bigram_train, y_train)\n",
    "\n",
    "# Examine the best parameters\n",
    "print(\"Optimal hyperparameter using unigram features: \" + str(lr_unigram_search.best_params_['C']))\n",
    "print(\"Optimal hyperparameter using bigram features: \" + str(lr_bigram_search.best_params_['C']))"
   ]
  },
  {
   "cell_type": "code",
   "execution_count": 10,
   "metadata": {},
   "outputs": [
    {
     "name": "stdout",
     "output_type": "stream",
     "text": [
      "Optimal depth using unigram features: 250\n",
      "Optimal depth using bigram features: 250\n"
     ]
    }
   ],
   "source": [
    "# Logistic Regression grid search for unigram features\n",
    "rf_unigram_param_grid = {'max_depth': [10, 100, 250, 500, 1000]}\n",
    "rf_unigram_search = GridSearchCV(RandomForestClassifier(), cv=5, param_grid=rf_unigram_param_grid)\n",
    "rf_unigram_search.fit(unigram_train, y_train)\n",
    "\n",
    "# Logistic Regression grid search for bigram features\n",
    "rf_bigram_param_grid = {'max_depth': [10, 100, 250, 500, 1000]}\n",
    "rf_bigram_search = GridSearchCV(RandomForestClassifier(), cv=5, param_grid=rf_bigram_param_grid)\n",
    "rf_bigram_search.fit(bigram_train, y_train)\n",
    "\n",
    "# Examine the best parameters\n",
    "print(\"Optimal depth using unigram features: \" + str(rf_unigram_search.best_params_['max_depth']))\n",
    "print(\"Optimal depth using bigram features: \" + str(rf_bigram_search.best_params_['max_depth']))"
   ]
  },
  {
   "cell_type": "markdown",
   "metadata": {},
   "source": [
    "Now, let's generate the models and evaluate them using the statistics defined in the previous section."
   ]
  },
  {
   "cell_type": "code",
   "execution_count": 11,
   "metadata": {},
   "outputs": [],
   "source": [
    "def generate_models(model_list, X_train, y_train, X_test, y_test):\n",
    "    \"\"\"Generate the models and output a dataframe with the specificity, sensitivity, and MCC\n",
    "    \n",
    "    Keyword arguments:\n",
    "    model_list -- the list of models to generate\n",
    "    X_train    -- the vectorized training dataset\n",
    "    y_train    -- the labels of the training dataset\n",
    "    X_test     -- the vectorized test dataset\n",
    "    y_test     -- the labels of the test dataset\n",
    "    \"\"\"\n",
    "    models = {}\n",
    "    model_eval = {}\n",
    "    for m in model_list: \n",
    "        # Train the model and generate the evaluation statistics\n",
    "        clf = clone(m)\n",
    "        clf.fit(X_train, y_train)\n",
    "        eval_scores = calculate_eval_scores(y_test, clf.predict(X_test))\n",
    "        model_name = type(clf).__name__\n",
    "        models[model_name] = clf\n",
    "        model_eval[model_name] = eval_scores\n",
    "\n",
    "    # Combine the results into a single dataframe\n",
    "    keys = list(model_eval.keys())\n",
    "    result = model_eval[keys[0]]\n",
    "    for i in range(1,len(keys)):\n",
    "        result = result.merge(model_eval[keys[i]], how='outer', left_index=True, right_index=True)\n",
    "    result.columns = keys\n",
    "    return (models, result)"
   ]
  },
  {
   "cell_type": "code",
   "execution_count": 12,
   "metadata": {},
   "outputs": [
    {
     "data": {
      "text/html": [
       "<div>\n",
       "<style scoped>\n",
       "    .dataframe tbody tr th:only-of-type {\n",
       "        vertical-align: middle;\n",
       "    }\n",
       "\n",
       "    .dataframe tbody tr th {\n",
       "        vertical-align: top;\n",
       "    }\n",
       "\n",
       "    .dataframe thead th {\n",
       "        text-align: right;\n",
       "    }\n",
       "</style>\n",
       "<table border=\"1\" class=\"dataframe\">\n",
       "  <thead>\n",
       "    <tr style=\"text-align: right;\">\n",
       "      <th></th>\n",
       "      <th>MultinomialNB</th>\n",
       "      <th>LogisticRegression</th>\n",
       "      <th>RandomForestClassifier</th>\n",
       "    </tr>\n",
       "  </thead>\n",
       "  <tbody>\n",
       "    <tr>\n",
       "      <th>accuracy</th>\n",
       "      <td>0.802273</td>\n",
       "      <td>0.808081</td>\n",
       "      <td>0.764899</td>\n",
       "    </tr>\n",
       "    <tr>\n",
       "      <th>sensitivity</th>\n",
       "      <td>0.857072</td>\n",
       "      <td>0.802291</td>\n",
       "      <td>0.754980</td>\n",
       "    </tr>\n",
       "    <tr>\n",
       "      <th>specificity</th>\n",
       "      <td>0.745902</td>\n",
       "      <td>0.814037</td>\n",
       "      <td>0.775102</td>\n",
       "    </tr>\n",
       "    <tr>\n",
       "      <th>mcc</th>\n",
       "      <td>0.607279</td>\n",
       "      <td>0.616269</td>\n",
       "      <td>0.530072</td>\n",
       "    </tr>\n",
       "  </tbody>\n",
       "</table>\n",
       "</div>"
      ],
      "text/plain": [
       "             MultinomialNB  LogisticRegression  RandomForestClassifier\n",
       "accuracy          0.802273            0.808081                0.764899\n",
       "sensitivity       0.857072            0.802291                0.754980\n",
       "specificity       0.745902            0.814037                0.775102\n",
       "mcc               0.607279            0.616269                0.530072"
      ]
     },
     "execution_count": 12,
     "metadata": {},
     "output_type": "execute_result"
    }
   ],
   "source": [
    "unigram_model_list = [MultinomialNB(), LogisticRegression(C=lr_unigram_search.best_params_['C']), RandomForestClassifier(max_depth=rf_unigram_search.best_params_['max_depth'])]\n",
    "unigram_models, unigram_evals = generate_models(unigram_model_list, unigram_train, y_train, unigram_test, y_test)\n",
    "unigram_evals"
   ]
  },
  {
   "cell_type": "code",
   "execution_count": 13,
   "metadata": {},
   "outputs": [
    {
     "data": {
      "text/html": [
       "<div>\n",
       "<style scoped>\n",
       "    .dataframe tbody tr th:only-of-type {\n",
       "        vertical-align: middle;\n",
       "    }\n",
       "\n",
       "    .dataframe tbody tr th {\n",
       "        vertical-align: top;\n",
       "    }\n",
       "\n",
       "    .dataframe thead th {\n",
       "        text-align: right;\n",
       "    }\n",
       "</style>\n",
       "<table border=\"1\" class=\"dataframe\">\n",
       "  <thead>\n",
       "    <tr style=\"text-align: right;\">\n",
       "      <th></th>\n",
       "      <th>MultinomialNB</th>\n",
       "      <th>LogisticRegression</th>\n",
       "      <th>RandomForestClassifier</th>\n",
       "    </tr>\n",
       "  </thead>\n",
       "  <tbody>\n",
       "    <tr>\n",
       "      <th>accuracy</th>\n",
       "      <td>0.801010</td>\n",
       "      <td>0.796970</td>\n",
       "      <td>0.750253</td>\n",
       "    </tr>\n",
       "    <tr>\n",
       "      <th>sensitivity</th>\n",
       "      <td>0.872012</td>\n",
       "      <td>0.780378</td>\n",
       "      <td>0.722112</td>\n",
       "    </tr>\n",
       "    <tr>\n",
       "      <th>specificity</th>\n",
       "      <td>0.727971</td>\n",
       "      <td>0.814037</td>\n",
       "      <td>0.779201</td>\n",
       "    </tr>\n",
       "    <tr>\n",
       "      <th>mcc</th>\n",
       "      <td>0.607026</td>\n",
       "      <td>0.594546</td>\n",
       "      <td>0.501890</td>\n",
       "    </tr>\n",
       "  </tbody>\n",
       "</table>\n",
       "</div>"
      ],
      "text/plain": [
       "             MultinomialNB  LogisticRegression  RandomForestClassifier\n",
       "accuracy          0.801010            0.796970                0.750253\n",
       "sensitivity       0.872012            0.780378                0.722112\n",
       "specificity       0.727971            0.814037                0.779201\n",
       "mcc               0.607026            0.594546                0.501890"
      ]
     },
     "execution_count": 13,
     "metadata": {},
     "output_type": "execute_result"
    }
   ],
   "source": [
    "bigram_model_list = [MultinomialNB(), LogisticRegression(C=lr_bigram_search.best_params_['C']), RandomForestClassifier(max_depth=rf_bigram_search.best_params_['max_depth'])]\n",
    "bigram_models, bigram_evals = generate_models(bigram_model_list, bigram_train, y_train, bigram_test, y_test)\n",
    "bigram_evals"
   ]
  },
  {
   "cell_type": "markdown",
   "metadata": {},
   "source": [
    "The models generated using the unigram features seem to perform as well as their bigram counterparts. The Multinomial Naive Bayes and Logistic Regression classifiers consistently outperform the Random Forest classifiers. Let's view the ROC curves of the classifiers generated using the unigram features. The ROC curve plots the true positive rate (i.e., the signal) against the false positive rate (i.e., the noise) at various thresholds or decision points, and is often used to assess the quality of a binary classifier model. Let's define a function to plot this ROC curve."
   ]
  },
  {
   "cell_type": "code",
   "execution_count": 14,
   "metadata": {},
   "outputs": [
    {
     "data": {
      "image/png": "[encoded data removed]",
      "text/plain": [
       "<Figure size 1080x1080 with 1 Axes>"
      ]
     },
     "metadata": {
      "needs_background": "light"
     },
     "output_type": "display_data"
    }
   ],
   "source": [
    "# Define the plot size\n",
    "plt.rcParams[\"figure.figsize\"] = (15,15)\n",
    "\n",
    "def plot_roc(trained_models, X_test, y_test):\n",
    "    \"\"\"Plot the ROC curve and the mean ROC curve.\n",
    "\n",
    "    Keyword arguments:\n",
    "    trained_model -- the dictionary containing the trained classifiers\n",
    "    X_test        -- the test data\n",
    "    y_test        -- the test data's labels\n",
    "    \"\"\"\n",
    "    \n",
    "    for model in trained_models.keys():\n",
    "        # There are two common functions used to generate the scores necessary to produce an ROC curve: 'decision_function,'\n",
    "        # or 'predict_proba.' The 'decision_function' method directly produced a score for each classifier. The\n",
    "        # 'predict_proba' method calculates the probability that a given observation will fall in either class. The ROC\n",
    "        # curve requires scores, not probabilities. Therefore, we will use the former method if the classifier supports it;\n",
    "        # if not, then we will use the positive class's probability as a proxy for the scores.\n",
    "        if hasattr(trained_models[model], \"decision_function\"):\n",
    "            scores = trained_models[model].decision_function(X_test)\n",
    "        else:\n",
    "            scores = trained_models[model].predict_proba(X_test)[:, 1]\n",
    "        \n",
    "        # Calculate the false positive rate and true positive rate under various thresholds, and the AUC\n",
    "        fpr, tpr, thresholds = roc_curve(y_test, scores)\n",
    "        model_auc = auc(fpr, tpr)\n",
    "\n",
    "        # Plot\n",
    "        plt.plot(fpr, tpr, lw=2, label=\"%s, AUC = %0.2f\" % (model, model_auc))\n",
    "  \n",
    "    # Plot the curve associated with a classifier that randomly predicts the labels\n",
    "    plt.plot([0, 1], [0, 1], linestyle='--', lw=2, color='r', label='Chance', alpha=.8)\n",
    "\n",
    "    # Specify axis limits and titles, and display plot\n",
    "    plt.xlim([-0.05, 1.05])\n",
    "    plt.ylim([-0.05, 1.05])\n",
    "    plt.xlabel('False Positive Rate')\n",
    "    plt.ylabel('True Positive Rate')\n",
    "    plt.title('Receiver operating characteristic example')\n",
    "    plt.legend(loc=\"lower right\")\n",
    "    plt.show()\n",
    "\n",
    "# Plot the ROC for the classifiers generated using the unigram features    \n",
    "plot_roc(unigram_models, unigram_test, y_test)"
   ]
  }
 ],
 "metadata": {
  "kernelspec": {
   "display_name": "Python 3",
   "language": "python",
   "name": "python3"
  },
  "language_info": {
   "codemirror_mode": {
    "name": "ipython",
    "version": 3
   },
   "file_extension": ".py",
   "mimetype": "text/x-python",
   "name": "python",
   "nbconvert_exporter": "python",
   "pygments_lexer": "ipython3",
   "version": "3.7.3"
  }
 },
 "nbformat": 4,
 "nbformat_minor": 2
}
